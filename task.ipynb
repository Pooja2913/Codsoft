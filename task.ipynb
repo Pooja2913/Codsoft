{
  "cells": [
    {
      "cell_type": "markdown",
      "metadata": {
        "id": "view-in-github",
        "colab_type": "text"
      },
      "source": [
        "<a href=\"https://colab.research.google.com/github/Pooja2913/Codsoft/blob/main/task.ipynb\" target=\"_parent\"><img src=\"https://colab.research.google.com/assets/colab-badge.svg\" alt=\"Open In Colab\"/></a>"
      ]
    },
    {
      "cell_type": "code",
      "execution_count": null,
      "metadata": {
        "colab": {
          "base_uri": "https://localhost:8080/"
        },
        "id": "YzPjiAL_T8PD",
        "outputId": "2d27d80d-32c4-4660-b55c-c0afa7b7e274"
      },
      "outputs": [
        {
          "output_type": "stream",
          "name": "stdout",
          "text": [
            "Welcome to the calculator\n",
            "Enter first number:56890\n",
            "Enter second number:34562\n",
            "Enter + for addition\n",
            "Enter - for substraction\n",
            "Enter * for multiplication\n",
            "Enter / for division\n",
            "/\n",
            "Result: 1.65\n"
          ]
        }
      ],
      "source": [
        "print(\"Welcome to the calculator\")\n",
        "\n",
        "num1=input(\"Enter first number:\")\n",
        "num2=input(\"Enter second number:\")\n",
        "operand=input(\"Enter + for addition\\n\"\"Enter - for substraction\\n\"\"Enter * for multiplication\\n\"\"Enter / for division\\n\")\n",
        "num1=float(num1)if'.'in num1 else int(num1)\n",
        "num2=float(num2)if'.'in num2 else int(num2)\n",
        "result=0\n",
        "if operand==\"+\":\n",
        "  result=num1+num2\n",
        "elif operand==\"-\":\n",
        "  result=num1-num2\n",
        "elif operand==\"*\":\n",
        "  result=num1*num2\n",
        "elif operand==\"/\":\n",
        "  if num2!=0:\n",
        "     result=num1/num2\n",
        "  else:\n",
        "    print(\"Cant be divided by zero.\")\n",
        "else:\n",
        "    print(\"invalid\")\n",
        "if isinstance(result,float):\n",
        "     print(f\"Result: {result:.2f}\")\n",
        "else:\n",
        "    print(result)\n",
        "\n",
        "\n",
        "\n"
      ]
    }
  ],
  "metadata": {
    "colab": {
      "provenance": [],
      "authorship_tag": "ABX9TyP7eJ7oz2PINpNTqhxYTWqj",
      "include_colab_link": true
    },
    "kernelspec": {
      "display_name": "Python 3",
      "name": "python3"
    },
    "language_info": {
      "name": "python"
    }
  },
  "nbformat": 4,
  "nbformat_minor": 0
}