{
  "cells": [
    {
      "cell_type": "markdown",
      "metadata": {
        "id": "view-in-github",
        "colab_type": "text"
      },
      "source": [
        "<a href=\"https://colab.research.google.com/github/Pooja2913/Codsoft/blob/main/task(password).ipynb\" target=\"_parent\"><img src=\"https://colab.research.google.com/assets/colab-badge.svg\" alt=\"Open In Colab\"/></a>"
      ]
    },
    {
      "cell_type": "code",
      "execution_count": null,
      "metadata": {
        "colab": {
          "base_uri": "https://localhost:8080/"
        },
        "id": "E0YyX6UBthqr",
        "outputId": "e2a5647c-9036-4715-a635-3f42c5582e5a"
      },
      "outputs": [
        {
          "output_type": "stream",
          "name": "stdout",
          "text": [
            "Welcome to the PyPassword Generator!\n",
            "Choose a difficulty level (easy, normal, or hard):\n",
            "EASY\n",
            "How many letters do u want in your password: 8\n",
            "How many symbols do u want in your password: 4\n",
            "How many numbers do u want in your password: 3\n",
            "Generated Password: 7$eS(Yam%A1(y6p\n"
          ]
        }
      ],
      "source": [
        "import random\n",
        "\n",
        "letters = ['a', 'b', 'c', 'd', 'e', 'f', 'g', 'h', 'i', 'j', 'k', 'l', 'm', 'n', 'o', 'p', 'q', 'r', 's', 't', 'u', 'v', 'w', 'x', 'y', 'z', 'A', 'B', 'C', 'D', 'E', 'F', 'G', 'H', 'I', 'J', 'K', 'L', 'M', 'N', 'O', 'P', 'Q', 'R', 'S', 'T', 'U', 'V', 'W', 'X', 'Y', 'Z']\n",
        "numbers = ['0', '1', '2', '3', '4', '5', '6', '7', '8', '9']\n",
        "symbols = ['!', '#', '$', '%', '&', '(', ')', '*', '+']\n",
        "\n",
        "print(\"Welcome to the PyPassword Generator!\")\n",
        "\n",
        "difficulty = input(\"Choose a difficulty level (easy, normal, or hard):\\n\").lower()\n",
        "\n",
        "if difficulty == \"easy\":\n",
        "    nr_letters = int(input(\"How many letters do u want in your password: \"))\n",
        "    nr_symbols = int(input(\"How many symbols do u want in your password: \"))\n",
        "    nr_numbers = int(input(\"How many numbers do u want in your password: \"))\n",
        "elif difficulty == \"normal\":\n",
        "    nr_letters = int(input(\"How many letters do u want in your password: \"))\n",
        "    nr_symbols = int(input(\"How many symbols do u want in your password: \"))\n",
        "    nr_numbers = int(input(\"How many numbers do u want in your password: \"))\n",
        "elif difficulty == \"hard\":\n",
        "    nr_letters = int(input(\"How many letters do u want in your password: \"))\n",
        "    nr_symbols = int(input(\"How many symbols do u want in your password: \"))\n",
        "    nr_numbers = int(input(\"How many numbers do u want in your password: \"))\n",
        "else:\n",
        "    print(\"Invalid difficulty level. Please choose easy, normal, or hard.\")\n",
        "    exit()\n",
        "\n",
        "password = \"\"\n",
        "for char in range(1, nr_letters + 1):\n",
        "    password += random.choice(letters)\n",
        "\n",
        "for char in range(1, nr_symbols + 1):\n",
        "    password += random.choice(symbols)\n",
        "\n",
        "for char in range(1, nr_numbers + 1):\n",
        "    password += random.choice(numbers)\n",
        "\n",
        "password_list = list(password)  # Convert the string to a list if needed\n",
        "\n",
        "random.shuffle(password_list)\n",
        "\n",
        "# The generated password as a string\n",
        "print(\"Generated Password:\", ''.join(password_list))\n"
      ]
    }
  ],
  "metadata": {
    "colab": {
      "provenance": [],
      "authorship_tag": "ABX9TyPhoUvTeFIr5wPW/LQFL0R9",
      "include_colab_link": true
    },
    "kernelspec": {
      "display_name": "Python 3",
      "name": "python3"
    },
    "language_info": {
      "name": "python"
    }
  },
  "nbformat": 4,
  "nbformat_minor": 0
}