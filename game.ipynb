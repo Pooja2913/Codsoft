{
  "nbformat": 4,
  "nbformat_minor": 0,
  "metadata": {
    "colab": {
      "provenance": [],
      "authorship_tag": "ABX9TyOrQP53gUpEiFikcGbjl3S5",
      "include_colab_link": true
    },
    "kernelspec": {
      "name": "python3",
      "display_name": "Python 3"
    },
    "language_info": {
      "name": "python"
    }
  },
  "cells": [
    {
      "cell_type": "markdown",
      "metadata": {
        "id": "view-in-github",
        "colab_type": "text"
      },
      "source": [
        "<a href=\"https://colab.research.google.com/github/Pooja2913/Codsoft/blob/main/game.ipynb\" target=\"_parent\"><img src=\"https://colab.research.google.com/assets/colab-badge.svg\" alt=\"Open In Colab\"/></a>"
      ]
    },
    {
      "cell_type": "code",
      "execution_count": null,
      "metadata": {
        "colab": {
          "base_uri": "https://localhost:8080/"
        },
        "id": "t2qWM9zLZcoW",
        "outputId": "60859486-4207-423e-d847-3407860534b6"
      },
      "outputs": [
        {
          "output_type": "stream",
          "name": "stdout",
          "text": [
            "welcome to the rock,paper,scissor game\n",
            "what should u like to choose?Select 0 for rock,1 for paper and 2 for scissor.\n",
            "0\n",
            "computer choose 2\n",
            "you win\n"
          ]
        }
      ],
      "source": [
        "\n",
        "print(\"welcome to the rock,paper,scissor game\")\n",
        "\n",
        "import random\n",
        "\n",
        "user_choice=int(input(\"what should u like to choose?Select 0 for rock,1 for paper and 2 for scissor.\\n\"))\n",
        "computer_choice=random.randint(0,2)\n",
        "print(f\"computer choose {computer_choice}\")\n",
        "if  user_choice>=3 or user_choice<0:\n",
        "    print(\"invalid number.please choose again\")\n",
        "elif user_choice==0 and computer_choice==2:\n",
        "    print(\"you win\")\n",
        "elif computer_choice==0 and user_choice==2:\n",
        "    print(\"you lose\")\n",
        "elif computer_choice>user_choice:\n",
        "    print(\"you lose\")\n",
        "elif user_choice>computer_choice:\n",
        "    print(\"you win\")\n",
        "elif computer_choice==user_choice:\n",
        "    print(\"its a tie\")\n"
      ]
    }
  ]
}